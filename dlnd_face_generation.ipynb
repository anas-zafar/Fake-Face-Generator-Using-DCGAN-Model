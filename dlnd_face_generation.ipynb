{
 "cells": [
  {
   "cell_type": "markdown",
   "metadata": {},
   "source": [
    "# Face Generation\n",
    "\n",
    "In this project, you'll define and train a DCGAN on a dataset of faces. Your goal is to get a generator network to generate *new* images of faces that look as realistic as possible!\n",
    "\n",
    "The project will be broken down into a series of tasks from **loading in data to defining and training adversarial networks**. At the end of the notebook, you'll be able to visualize the results of your trained Generator to see how it performs; your generated samples should look like fairly realistic faces with small amounts of noise.\n",
    "\n",
    "### Get the Data\n",
    "\n",
    "You'll be using the [CelebFaces Attributes Dataset (CelebA)](http://mmlab.ie.cuhk.edu.hk/projects/CelebA.html) to train your adversarial networks.\n",
    "\n",
    "This dataset is more complex than the number datasets (like MNIST or SVHN) you've been working with, and so, you should prepare to define deeper networks and train them for a longer time to get good results. It is suggested that you utilize a GPU for training.\n",
    "\n",
    "### Pre-processed Data\n",
    "\n",
    "Since the project's main focus is on building the GANs, we've done *some* of the pre-processing for you. Each of the CelebA images has been cropped to remove parts of the image that don't include a face, then resized down to 64x64x3 NumPy images. Some sample data is show below.\n",
    "\n",
    "<img src='assets/processed_face_data.png' width=60% />\n",
    "\n",
    "> If you are working locally, you can download this data [by clicking here](https://s3.amazonaws.com/video.udacity-data.com/topher/2018/November/5be7eb6f_processed-celeba-small/processed-celeba-small.zip)\n",
    "\n",
    "This is a zip file that you'll need to extract in the home directory of this notebook for further loading and processing. After extracting the data, you should be left with a directory of data `processed_celeba_small/`"
   ]
  },
  {
   "cell_type": "code",
   "execution_count": 7,
   "metadata": {},
   "outputs": [
    {
     "name": "stdout",
     "output_type": "stream",
     "text": [
      "unzip:  cannot find or open processed_celeba_small.zip, processed_celeba_small.zip.zip or processed_celeba_small.zip.ZIP.\r\n"
     ]
    }
   ],
   "source": [
    "# can comment out after executing\n",
    "#!unzip processed_celeba_small.zip"
   ]
  },
  {
   "cell_type": "code",
   "execution_count": 1,
   "metadata": {},
   "outputs": [],
   "source": [
    "data_dir = 'train/'\n",
    "\n",
    "\"\"\"\n",
    "DON'T MODIFY ANYTHING IN THIS CELL\n",
    "\"\"\"\n",
    "import pickle as pkl\n",
    "import matplotlib.pyplot as plt\n",
    "import numpy as np\n",
    "import problem_unittests as tests\n",
    "#import helper\n",
    "\n",
    "%matplotlib inline"
   ]
  },
  {
   "cell_type": "markdown",
   "metadata": {},
   "source": [
    "## Visualize the CelebA Data\n",
    "\n",
    "The [CelebA](http://mmlab.ie.cuhk.edu.hk/projects/CelebA.html) dataset contains over 200,000 celebrity images with annotations. Since you're going to be generating faces, you won't need the annotations, you'll only need the images. Note that these are color images with [3 color channels (RGB)](https://en.wikipedia.org/wiki/Channel_(digital_image)#RGB_Images) each.\n",
    "\n",
    "### Pre-process and Load the Data\n",
    "\n",
    "Since the project's main focus is on building the GANs, we've done *some* of the pre-processing for you. Each of the CelebA images has been cropped to remove parts of the image that don't include a face, then resized down to 64x64x3 NumPy images. This *pre-processed* dataset is a smaller subset of the very large CelebA data.\n",
    "\n",
    "> There are a few other steps that you'll need to **transform** this data and create a **DataLoader**.\n",
    "\n",
    "#### Exercise: Complete the following `get_dataloader` function, such that it satisfies these requirements:\n",
    "\n",
    "* Your images should be square, Tensor images of size `image_size x image_size` in the x and y dimension.\n",
    "* Your function should return a DataLoader that shuffles and batches these Tensor images.\n",
    "\n",
    "#### ImageFolder\n",
    "\n",
    "To create a dataset given a directory of images, it's recommended that you use PyTorch's [ImageFolder](https://pytorch.org/docs/stable/torchvision/datasets.html#imagefolder) wrapper, with a root directory `processed_celeba_small/` and data transformation passed in."
   ]
  },
  {
   "cell_type": "code",
   "execution_count": 8,
   "metadata": {},
   "outputs": [],
   "source": [
    "# import glob\n",
    "# import shutil\n",
    "# import os\n",
    "\n",
    "# src_dir = \"/home/vj_rahil/Desktop/Nanodegree/deep-learning-v2-pytorch-master/project-face-generation/processed-celeba-small/processed_celeba_small/celeba/New Folder With Items\"\n",
    "# dst_dir = \"/home/vj_rahil/Desktop/Nanodegree/deep-learning-v2-pytorch-master/project-face-generation/Data\"\n",
    "# for jpgfile in glob.iglob(os.path.join(src_dir, \"*.jpg\")):\n",
    "#     shutil.copy(jpgfile, dst_dir)"
   ]
  },
  {
   "cell_type": "code",
   "execution_count": 9,
   "metadata": {},
   "outputs": [],
   "source": [
    "# src_dir_1 = \"/home/vj_rahil/Desktop/Nanodegree/deep-learning-v2-pytorch-master/project-face-generation/processed-celeba-small/processed_celeba_small/celeba\"\n",
    "# for jpgfile in glob.iglob(os.path.join(src_dir_1, \"*.jpg\")):\n",
    "#     shutil.copy(jpgfile, dst_dir)"
   ]
  },
  {
   "cell_type": "code",
   "execution_count": 2,
   "metadata": {},
   "outputs": [],
   "source": [
    "# necessary imports\n",
    "import torch\n",
    "from torchvision import datasets\n",
    "from torchvision import transforms"
   ]
  },
  {
   "cell_type": "code",
   "execution_count": 3,
   "metadata": {},
   "outputs": [],
   "source": [
    "def get_dataloader(batch_size, image_size, data_dir='train/'):\n",
    "    \"\"\"\n",
    "    Batch the neural network data using DataLoader\n",
    "    :param batch_size: The size of each batch; the number of images in a batch\n",
    "    :param img_size: The square size of the image data (x, y)\n",
    "    :param data_dir: Directory where image data is located\n",
    "    :return: DataLoader with batched data\n",
    "    \"\"\"\n",
    "    transform = transforms.Compose([transforms.Resize(image_size),transforms.CenterCrop(image_size),transforms.ToTensor()])\n",
    "    # TODO: Implement function and return a dataloader\n",
    "    dataset = datasets.ImageFolder(data_dir,transform = transform)\n",
    "    \n",
    "    dataloader = torch.utils.data.DataLoader(dataset = dataset,batch_size = batch_size,shuffle = True)\n",
    "    return dataloader\n"
   ]
  },
  {
   "cell_type": "markdown",
   "metadata": {},
   "source": [
    "## Create a DataLoader\n",
    "\n",
    "#### Exercise: Create a DataLoader `celeba_train_loader` with appropriate hyperparameters.\n",
    "\n",
    "Call the above function and create a dataloader to view images. \n",
    "* You can decide on any reasonable `batch_size` parameter\n",
    "* Your `image_size` **must be** `32`. Resizing the data to a smaller size will make for faster training, while still creating convincing images of faces!"
   ]
  },
  {
   "cell_type": "code",
   "execution_count": 30,
   "metadata": {},
   "outputs": [],
   "source": [
    "# Define function hyperparameters\n",
    "batch_size = 256\n",
    "img_size = 32\n",
    "\n",
    "\"\"\"\n",
    "DON'T MODIFY ANYTHING IN THIS CELL THAT IS BELOW THIS LINE\n",
    "\"\"\"\n",
    "# Call your function and get a dataloader\n",
    "celeba_train_loader = get_dataloader(batch_size, img_size)\n"
   ]
  },
  {
   "cell_type": "markdown",
   "metadata": {},
   "source": [
    "Next, you can view some images! You should seen square images of somewhat-centered faces.\n",
    "\n",
    "Note: You'll need to convert the Tensor images into a NumPy type and transpose the dimensions to correctly display an image, suggested `imshow` code is below, but it may not be perfect."
   ]
  },
  {
   "cell_type": "code",
   "execution_count": 31,
   "metadata": {},
   "outputs": [
    {
     "data": {
      "image/png": "[encoded data removed]",
      "text/plain": [
       "<Figure size 1440x288 with 20 Axes>"
      ]
     },
     "metadata": {},
     "output_type": "display_data"
    }
   ],
   "source": [
    "# helper display function\n",
    "def imshow(img):\n",
    "    npimg = img.numpy()\n",
    "    plt.imshow(np.transpose(npimg, (1, 2, 0)))\n",
    "\n",
    "\"\"\"\n",
    "DON'T MODIFY ANYTHING IN THIS CELL THAT IS BELOW THIS LINE\n",
    "\"\"\"\n",
    "# obtain one batch of training images\n",
    "dataiter = iter(celeba_train_loader)\n",
    "images, _ = dataiter.next() # _ for no labels\n",
    "\n",
    "# plot the images in the batch, along with the corresponding labels\n",
    "fig = plt.figure(figsize=(20, 4))\n",
    "plot_size=20\n",
    "for idx in np.arange(plot_size):\n",
    "    ax = fig.add_subplot(2, plot_size/2, idx+1, xticks=[], yticks=[])\n",
    "    imshow(images[idx])"
   ]
  },
  {
   "cell_type": "markdown",
   "metadata": {},
   "source": [
    "#### Exercise: Pre-process your image data and scale it to a pixel range of -1 to 1\n",
    "\n",
    "You need to do a bit of pre-processing; you know that the output of a `tanh` activated generator will contain pixel values in a range from -1 to 1, and so, we need to rescale our training images to a range of -1 to 1. (Right now, they are in a range from 0-1.)"
   ]
  },
  {
   "cell_type": "code",
   "execution_count": 32,
   "metadata": {},
   "outputs": [],
   "source": [
    "# TODO: Complete the scale function\n",
    "def scale(x, feature_range=(-1, 1)):\n",
    "    ''' Scale takes in an image x and returns that image, scaled\n",
    "       with a feature_range of pixel values from -1 to 1. \n",
    "       This function assumes that the input x is already scaled from 0-1.'''\n",
    "    # assume x is scaled to (0, 1)\n",
    "    # scale to feature_range and return scaled x\n",
    "    min, max = feature_range\n",
    "    x = x*(max-min) + min\n",
    "    return x\n"
   ]
  },
  {
   "cell_type": "code",
   "execution_count": 33,
   "metadata": {},
   "outputs": [
    {
     "name": "stdout",
     "output_type": "stream",
     "text": [
      "Min:  tensor(-0.9294)\n",
      "Max:  tensor(0.8510)\n"
     ]
    }
   ],
   "source": [
    "\"\"\"\n",
    "DON'T MODIFY ANYTHING IN THIS CELL THAT IS BELOW THIS LINE\n",
    "\"\"\"\n",
    "# check scaled range\n",
    "# should be close to -1 to 1\n",
    "img = images[0]\n",
    "scaled_img = scale(img)\n",
    "\n",
    "print('Min: ', scaled_img.min())\n",
    "print('Max: ', scaled_img.max())"
   ]
  },
  {
   "cell_type": "markdown",
   "metadata": {},
   "source": [
    "---\n",
    "# Define the Model\n",
    "\n",
    "A GAN is comprised of two adversarial networks, a discriminator and a generator.\n",
    "\n",
    "## Discriminator\n",
    "\n",
    "Your first task will be to define the discriminator. This is a convolutional classifier like you've built before, only without any maxpooling layers. To deal with this complex data, it's suggested you use a deep network with **normalization**. You are also allowed to create any helper functions that may be useful.\n",
    "\n",
    "#### Exercise: Complete the Discriminator class\n",
    "* The inputs to the discriminator are 32x32x3 tensor images\n",
    "* The output should be a single value that will indicate whether a given image is real or fake\n"
   ]
  },
  {
   "cell_type": "code",
   "execution_count": 34,
   "metadata": {},
   "outputs": [],
   "source": [
    "import torch.nn as nn\n",
    "import torch.nn.functional as F"
   ]
  },
  {
   "cell_type": "code",
   "execution_count": 35,
   "metadata": {},
   "outputs": [
    {
     "name": "stdout",
     "output_type": "stream",
     "text": [
      "Tests Passed\n"
     ]
    }
   ],
   "source": [
    "def conv(input_c,output,kernel_size,stride = 2,padding  = 1, batch_norm = True):\n",
    "    layers =[]\n",
    "    con = nn.Conv2d(input_c,output,kernel_size,stride,padding,bias = False)\n",
    "    layers.append(con)\n",
    "    \n",
    "    if batch_norm:\n",
    "        layers.append(nn.BatchNorm2d(output))\n",
    "    \n",
    "    return nn.Sequential(*layers)\n",
    "\n",
    "class Discriminator(nn.Module):\n",
    "\n",
    "    def __init__(self, conv_dim):\n",
    "        \"\"\"\n",
    "        Initialize the Discriminator Module\n",
    "        :param conv_dim: The depth of the first convolutional layer\n",
    "        \"\"\"\n",
    "        super(Discriminator, self).__init__()\n",
    "        self.conv_dim = conv_dim\n",
    "        self.layer_1 = conv(3,conv_dim,4,batch_norm = False) #16\n",
    "        self.layer_2 = conv(conv_dim,conv_dim*2,4) #8\n",
    "        self.layer_3 = conv(conv_dim*2,conv_dim*4,4) #4\n",
    "        self.fc = nn.Linear(conv_dim*4*4*4,1)\n",
    "        # complete init function\n",
    "        \n",
    "\n",
    "    def forward(self, x):\n",
    "        \"\"\"\n",
    "        Forward propagation of the neural network\n",
    "        :param x: The input to the neural network     \n",
    "        :return: Discriminator logits; the output of the neural network\n",
    "        \"\"\"\n",
    "        # define feedforward behavior\n",
    "        x = F.leaky_relu(self.layer_1(x))\n",
    "        x = F.leaky_relu(self.layer_2(x))\n",
    "        x = F.leaky_relu(self.layer_3(x))\n",
    "        x = x.view(-1,self.conv_dim*4*4*4)\n",
    "        x = self.fc(x)\n",
    "        return x\n",
    "\n",
    "\n",
    "\"\"\"\n",
    "DON'T MODIFY ANYTHING IN THIS CELL THAT IS BELOW THIS LINE\n",
    "\"\"\"\n",
    "tests.test_discriminator(Discriminator)"
   ]
  },
  {
   "cell_type": "markdown",
   "metadata": {},
   "source": [
    "## Generator\n",
    "\n",
    "The generator should upsample an input and generate a *new* image of the same size as our training data `32x32x3`. This should be mostly transpose convolutional layers with normalization applied to the outputs.\n",
    "\n",
    "#### Exercise: Complete the Generator class\n",
    "* The inputs to the generator are vectors of some length `z_size`\n",
    "* The output should be a image of shape `32x32x3`"
   ]
  },
  {
   "cell_type": "code",
   "execution_count": 36,
   "metadata": {},
   "outputs": [
    {
     "name": "stdout",
     "output_type": "stream",
     "text": [
      "Tests Passed\n"
     ]
    }
   ],
   "source": [
    "def deconv(input_c,output,kernel_size,stride = 2, padding =1, batch_norm = True):\n",
    "    layers = []\n",
    "    decon = nn.ConvTranspose2d(input_c,output,kernel_size,stride,padding,bias = False)\n",
    "    layers.append(decon)\n",
    "    \n",
    "    if batch_norm:\n",
    "        layers.append(nn.BatchNorm2d(output))\n",
    "    return nn.Sequential(*layers)\n",
    "\n",
    "class Generator(nn.Module):\n",
    "    \n",
    "    def __init__(self, z_size, conv_dim):\n",
    "        \"\"\"\n",
    "        Initialize the Generator Module\n",
    "        :param z_size: The length of the input latent vector, z\n",
    "        :param conv_dim: The depth of the inputs to the *last* transpose convolutional layer\n",
    "        \"\"\"\n",
    "        super(Generator, self).__init__()\n",
    "        self.conv_dim = conv_dim\n",
    "        self.fc = nn.Linear(z_size,conv_dim*8*2*2)\n",
    "        self.layer_1 = deconv(conv_dim*8,conv_dim*4,4)\n",
    "        self.layer_2 = deconv(conv_dim*4,conv_dim*2,4)\n",
    "        self.layer_3 = deconv(conv_dim*2,conv_dim,4)\n",
    "        self.layer_4 = deconv(conv_dim,3,4,batch_norm = False)\n",
    "        # complete init function\n",
    "        \n",
    "    def forward(self, x):\n",
    "        \"\"\"\n",
    "        Forward propagation of the neural network\n",
    "        :param x: The input to the neural network     \n",
    "        :return: A 32x32x3 Tensor image as output\n",
    "        \"\"\"\n",
    "        # define feedforward behavior\n",
    "        x = self.fc(x)\n",
    "        x = x.view(-1,self.conv_dim*8,2,2) #(batch_size,depth,width,height)\n",
    "        x = F.relu(self.layer_1(x))\n",
    "        x = F.relu(self.layer_2(x))\n",
    "        x = F.relu(self.layer_3(x))\n",
    "        x = torch.tanh(self.layer_4(x))\n",
    "        return x\n",
    "\n",
    "\"\"\"\n",
    "DON'T MODIFY ANYTHING IN THIS CELL THAT IS BELOW THIS LINE\n",
    "\"\"\"\n",
    "tests.test_generator(Generator)"
   ]
  },
  {
   "cell_type": "markdown",
   "metadata": {},
   "source": [
    "## Initialize the weights of your networks\n",
    "\n",
    "To help your models converge, you should initialize the weights of the convolutional and linear layers in your model. From reading the [original DCGAN paper](https://arxiv.org/pdf/1511.06434.pdf), they say:\n",
    "> All weights were initialized from a zero-centered Normal distribution with standard deviation 0.02.\n",
    "\n",
    "So, your next task will be to define a weight initialization function that does just this!\n",
    "\n",
    "You can refer back to the lesson on weight initialization or even consult existing model code, such as that from [the `networks.py` file in CycleGAN Github repository](https://github.com/junyanz/pytorch-CycleGAN-and-pix2pix/blob/master/models/networks.py) to help you complete this function.\n",
    "\n",
    "#### Exercise: Complete the weight initialization function\n",
    "\n",
    "* This should initialize only **convolutional** and **linear** layers\n",
    "* Initialize the weights to a normal distribution, centered around 0, with a standard deviation of 0.02.\n",
    "* The bias terms, if they exist, may be left alone or set to 0."
   ]
  },
  {
   "cell_type": "code",
   "execution_count": 37,
   "metadata": {},
   "outputs": [],
   "source": [
    "def weights_init_normal(m):\n",
    "    \"\"\"\n",
    "    Applies initial weights to certain layers in a model .\n",
    "    The weights are taken from a normal distribution \n",
    "    with mean = 0, std dev = 0.02.\n",
    "    :param m: A module or layer in a network    \n",
    "    \"\"\"\n",
    "    # classname will be something like:\n",
    "    # `Conv`, `BatchNorm2d`, `Linear`, etc.\n",
    "    classname = m.__class__.__name__\n",
    "    \n",
    "    if hasattr(m,'weight') and (classname.find('Conv') != -1 or classname.find('Linear') != -1):\n",
    "        \n",
    "        m.weight.data.normal_(0.0,0.02)\n",
    "    \n",
    "        if hasattr(m,'bias') and m.bias is not None:\n",
    "            m.bias.data.zero_()\n",
    "   "
   ]
  },
  {
   "cell_type": "markdown",
   "metadata": {
    "collapsed": true
   },
   "source": [
    "## Build complete network\n",
    "\n",
    "Define your models' hyperparameters and instantiate the discriminator and generator from the classes defined above. Make sure you've passed in the correct input arguments."
   ]
  },
  {
   "cell_type": "code",
   "execution_count": 38,
   "metadata": {},
   "outputs": [],
   "source": [
    "\"\"\"\n",
    "DON'T MODIFY ANYTHING IN THIS CELL THAT IS BELOW THIS LINE\n",
    "\"\"\"\n",
    "def build_network(d_conv_dim, g_conv_dim, z_size):\n",
    "    # define discriminator and generator\n",
    "    D = Discriminator(d_conv_dim)\n",
    "    G = Generator(z_size=z_size, conv_dim=g_conv_dim)\n",
    "\n",
    "    # initialize model weights\n",
    "    D.apply(weights_init_normal)\n",
    "    G.apply(weights_init_normal)\n",
    "\n",
    "    print(D)\n",
    "    print()\n",
    "    print(G)\n",
    "    \n",
    "    return D, G\n"
   ]
  },
  {
   "cell_type": "markdown",
   "metadata": {},
   "source": [
    "#### Exercise: Define model hyperparameters"
   ]
  },
  {
   "cell_type": "code",
   "execution_count": 39,
   "metadata": {},
   "outputs": [
    {
     "name": "stdout",
     "output_type": "stream",
     "text": [
      "Discriminator(\n",
      "  (layer_1): Sequential(\n",
      "    (0): Conv2d(3, 64, kernel_size=(4, 4), stride=(2, 2), padding=(1, 1), bias=False)\n",
      "  )\n",
      "  (layer_2): Sequential(\n",
      "    (0): Conv2d(64, 128, kernel_size=(4, 4), stride=(2, 2), padding=(1, 1), bias=False)\n",
      "    (1): BatchNorm2d(128, eps=1e-05, momentum=0.1, affine=True, track_running_stats=True)\n",
      "  )\n",
      "  (layer_3): Sequential(\n",
      "    (0): Conv2d(128, 256, kernel_size=(4, 4), stride=(2, 2), padding=(1, 1), bias=False)\n",
      "    (1): BatchNorm2d(256, eps=1e-05, momentum=0.1, affine=True, track_running_stats=True)\n",
      "  )\n",
      "  (fc): Linear(in_features=4096, out_features=1, bias=True)\n",
      ")\n",
      "\n",
      "Generator(\n",
      "  (fc): Linear(in_features=100, out_features=2048, bias=True)\n",
      "  (layer_1): Sequential(\n",
      "    (0): ConvTranspose2d(512, 256, kernel_size=(4, 4), stride=(2, 2), padding=(1, 1), bias=False)\n",
      "    (1): BatchNorm2d(256, eps=1e-05, momentum=0.1, affine=True, track_running_stats=True)\n",
      "  )\n",
      "  (layer_2): Sequential(\n",
      "    (0): ConvTranspose2d(256, 128, kernel_size=(4, 4), stride=(2, 2), padding=(1, 1), bias=False)\n",
      "    (1): BatchNorm2d(128, eps=1e-05, momentum=0.1, affine=True, track_running_stats=True)\n",
      "  )\n",
      "  (layer_3): Sequential(\n",
      "    (0): ConvTranspose2d(128, 64, kernel_size=(4, 4), stride=(2, 2), padding=(1, 1), bias=False)\n",
      "    (1): BatchNorm2d(64, eps=1e-05, momentum=0.1, affine=True, track_running_stats=True)\n",
      "  )\n",
      "  (layer_4): Sequential(\n",
      "    (0): ConvTranspose2d(64, 3, kernel_size=(4, 4), stride=(2, 2), padding=(1, 1), bias=False)\n",
      "  )\n",
      ")\n"
     ]
    }
   ],
   "source": [
    "# Define model hyperparams\n",
    "d_conv_dim = 64\n",
    "g_conv_dim = 64\n",
    "z_size = 100\n",
    "\n",
    "\"\"\"\n",
    "DON'T MODIFY ANYTHING IN THIS CELL THAT IS BELOW THIS LINE\n",
    "\"\"\"\n",
    "D, G = build_network(d_conv_dim, g_conv_dim, z_size)"
   ]
  },
  {
   "cell_type": "markdown",
   "metadata": {},
   "source": [
    "### Training on GPU\n",
    "\n",
    "Check if you can train on GPU. Here, we'll set this as a boolean variable `train_on_gpu`. Later, you'll be responsible for making sure that \n",
    ">* Models,\n",
    "* Model inputs, and\n",
    "* Loss function arguments\n",
    "\n",
    "Are moved to GPU, where appropriate."
   ]
  },
  {
   "cell_type": "code",
   "execution_count": 40,
   "metadata": {},
   "outputs": [
    {
     "name": "stdout",
     "output_type": "stream",
     "text": [
      "Training on GPU!\n"
     ]
    }
   ],
   "source": [
    "\"\"\"\n",
    "DON'T MODIFY ANYTHING IN THIS CELL\n",
    "\"\"\"\n",
    "import torch\n",
    "\n",
    "# Check for a GPU\n",
    "train_on_gpu = torch.cuda.is_available()\n",
    "if not train_on_gpu:\n",
    "    print('No GPU found. Please use a GPU to train your neural network.')\n",
    "else:\n",
    "    print('Training on GPU!')"
   ]
  },
  {
   "cell_type": "markdown",
   "metadata": {},
   "source": [
    "---\n",
    "## Discriminator and Generator Losses\n",
    "\n",
    "Now we need to calculate the losses for both types of adversarial networks.\n",
    "\n",
    "### Discriminator Losses\n",
    "\n",
    "> * For the discriminator, the total loss is the sum of the losses for real and fake images, `d_loss = d_real_loss + d_fake_loss`. \n",
    "* Remember that we want the discriminator to output 1 for real images and 0 for fake images, so we need to set up the losses to reflect that.\n",
    "\n",
    "\n",
    "### Generator Loss\n",
    "\n",
    "The generator loss will look similar only with flipped labels. The generator's goal is to get the discriminator to *think* its generated images are *real*.\n",
    "\n",
    "#### Exercise: Complete real and fake loss functions\n",
    "\n",
    "**You may choose to use either cross entropy or a least squares error loss to complete the following `real_loss` and `fake_loss` functions.**"
   ]
  },
  {
   "cell_type": "code",
   "execution_count": 41,
   "metadata": {},
   "outputs": [],
   "source": [
    "def real_loss(D_out):\n",
    "    '''Calculates how close discriminator outputs are to being real.\n",
    "       param, D_out: discriminator logits\n",
    "       return: real loss'''\n",
    "    batch_size = D_out.size(0)\n",
    "    labels = torch.ones(batch_size)\n",
    "    if train_on_gpu:\n",
    "        labels = labels.cuda()\n",
    "    criterion = nn.BCEWithLogitsLoss()\n",
    "    loss = criterion(D_out.squeeze(),labels)\n",
    "    return loss\n",
    "\n",
    "def fake_loss(D_out):\n",
    "    '''Calculates how close discriminator outputs are to being fake.\n",
    "       param, D_out: discriminator logits\n",
    "       return: fake loss'''\n",
    "    batch_size = D_out.size(0)\n",
    "    labels = torch.zeros(batch_size)\n",
    "    if train_on_gpu:\n",
    "        labels = labels.cuda()\n",
    "    criterion =  nn.BCEWithLogitsLoss()\n",
    "    loss = criterion(D_out.squeeze(),labels)\n",
    "    return loss"
   ]
  },
  {
   "cell_type": "markdown",
   "metadata": {},
   "source": [
    "## Optimizers\n",
    "\n",
    "#### Exercise: Define optimizers for your Discriminator (D) and Generator (G)\n",
    "\n",
    "Define optimizers for your models with appropriate hyperparameters."
   ]
  },
  {
   "cell_type": "code",
   "execution_count": 42,
   "metadata": {},
   "outputs": [],
   "source": [
    "import torch.optim as optim\n",
    "\n",
    "# Create optimizers for the discriminator D and generator G\n",
    "d_optimizer = optim.Adam(D.parameters(),lr = .0002, betas = [0.5,0.999])\n",
    "g_optimizer = optim.Adam(G.parameters(),lr = .0002, betas = [0.5,0.999])"
   ]
  },
  {
   "cell_type": "markdown",
   "metadata": {},
   "source": [
    "---\n",
    "## Training\n",
    "\n",
    "Training will involve alternating between training the discriminator and the generator. You'll use your functions `real_loss` and `fake_loss` to help you calculate the discriminator losses.\n",
    "\n",
    "* You should train the discriminator by alternating on real and fake images\n",
    "* Then the generator, which tries to trick the discriminator and should have an opposing loss function\n",
    "\n",
    "\n",
    "#### Saving Samples\n",
    "\n",
    "You've been given some code to print out some loss statistics and save some generated \"fake\" samples."
   ]
  },
  {
   "cell_type": "markdown",
   "metadata": {},
   "source": [
    "#### Exercise: Complete the training function\n",
    "\n",
    "Keep in mind that, if you've moved your models to GPU, you'll also have to move any model inputs to GPU."
   ]
  },
  {
   "cell_type": "code",
   "execution_count": 43,
   "metadata": {},
   "outputs": [],
   "source": [
    "def train(D, G, n_epochs, print_every=50):\n",
    "    '''Trains adversarial networks for some number of epochs\n",
    "       param, D: the discriminator network\n",
    "       param, G: the generator network\n",
    "       param, n_epochs: number of epochs to train for\n",
    "       param, print_every: when to print and record the models' losses\n",
    "       return: D and G losses'''\n",
    "    \n",
    "    # move models to GPU\n",
    "    if train_on_gpu:\n",
    "        D.cuda()\n",
    "        G.cuda()\n",
    "\n",
    "    # keep track of loss and generated, \"fake\" samples\n",
    "    samples = []\n",
    "    losses = []\n",
    "\n",
    "    # Get some fixed data for sampling. These are images that are held\n",
    "    # constant throughout training, and allow us to inspect the model's performance\n",
    "    sample_size=16\n",
    "    fixed_z = np.random.uniform(-1, 1, size=(sample_size, z_size))\n",
    "    fixed_z = torch.from_numpy(fixed_z).float()\n",
    "    # move z to GPU if available\n",
    "    if train_on_gpu:\n",
    "        fixed_z = fixed_z.cuda()\n",
    "\n",
    "    # epoch training loop\n",
    "    for epoch in range(n_epochs):\n",
    "\n",
    "        # batch training loop\n",
    "        for batch_i, (real_images, _) in enumerate(celeba_train_loader):\n",
    "\n",
    "            batch_size = real_images.size(0)\n",
    "            real_images = scale(real_images)\n",
    "            if train_on_gpu:\n",
    "                real_images = real_images.cuda()\n",
    "            # ===============================================\n",
    "            #         YOUR CODE HERE: TRAIN THE NETWORKS\n",
    "            # ===============================================\n",
    "            \n",
    "            # 1. Train the discriminator on real and fake ima.ges\n",
    "            d_optimizer.zero_grad()\n",
    "            d_out_real = D(real_images)\n",
    "            z = np.random.uniform(-1,1,size = (batch_size,z_size))\n",
    "            z = torch.from_numpy(z).float()\n",
    "            if train_on_gpu:\n",
    "                z = z.cuda()\n",
    "            d_loss = real_loss(d_out_real) + fake_loss(D(G(z)))\n",
    "            d_loss.backward()\n",
    "            d_optimizer.step()\n",
    "            # 2. Train the generator with an adversarial loss\n",
    "            G.train()\n",
    "            g_optimizer.zero_grad()\n",
    "            z = np.random.uniform(-1,1,size = (batch_size,z_size))\n",
    "            z = torch.from_numpy(z).float()\n",
    "            if train_on_gpu:\n",
    "                z = z.cuda()\n",
    "            g_loss = real_loss(D(G(z)))\n",
    "            g_loss.backward()\n",
    "            g_optimizer.step()\n",
    "            \n",
    "            # ===============================================\n",
    "            #              END OF YOUR CODE\n",
    "            # ===============================================\n",
    "\n",
    "            # Print some loss stats\n",
    "            if batch_i % print_every == 0:\n",
    "                # append discriminator loss and generator loss\n",
    "                losses.append((d_loss.item(), g_loss.item()))\n",
    "                # print discriminator and generator loss\n",
    "                print('Epoch [{:5d}/{:5d}] | d_loss: {:6.4f} | g_loss: {:6.4f}'.format(\n",
    "                        epoch+1, n_epochs, d_loss.item(), g_loss.item()))\n",
    "\n",
    "\n",
    "        ## AFTER EACH EPOCH##    \n",
    "        # this code assumes your generator is named G, feel free to change the name\n",
    "        # generate and save sample, fake images\n",
    "        G.eval() # for generating samples\n",
    "        samples_z = G(fixed_z)\n",
    "        samples.append(samples_z)\n",
    "        G.train() # back to training mode\n",
    "\n",
    "    # Save training generator samples\n",
    "    with open('train_samples.pkl', 'wb') as f:\n",
    "        pkl.dump(samples, f)\n",
    "    \n",
    "    # finally return losses\n",
    "    return losses"
   ]
  },
  {
   "cell_type": "markdown",
   "metadata": {},
   "source": [
    "Set your number of training epochs and train your GAN!"
   ]
  },
  {
   "cell_type": "code",
   "execution_count": 44,
   "metadata": {
    "scrolled": true
   },
   "outputs": [
    {
     "name": "stdout",
     "output_type": "stream",
     "text": [
      "Epoch [    1/   40] | d_loss: 1.4997 | g_loss: 1.2191\n",
      "Epoch [    1/   40] | d_loss: 0.1510 | g_loss: 4.5366\n",
      "Epoch [    1/   40] | d_loss: 0.4526 | g_loss: 2.7143\n",
      "Epoch [    1/   40] | d_loss: 0.6236 | g_loss: 2.9233\n",
      "Epoch [    1/   40] | d_loss: 0.5555 | g_loss: 1.7641\n",
      "Epoch [    1/   40] | d_loss: 0.6053 | g_loss: 2.2375\n",
      "Epoch [    1/   40] | d_loss: 0.7405 | g_loss: 1.5755\n",
      "Epoch [    1/   40] | d_loss: 0.7829 | g_loss: 2.1336\n",
      "Epoch [    2/   40] | d_loss: 0.6907 | g_loss: 2.4471\n",
      "Epoch [    2/   40] | d_loss: 0.9055 | g_loss: 3.2720\n",
      "Epoch [    2/   40] | d_loss: 0.9088 | g_loss: 3.3317\n",
      "Epoch [    2/   40] | d_loss: 0.8198 | g_loss: 2.3700\n",
      "Epoch [    2/   40] | d_loss: 0.8031 | g_loss: 2.2239\n",
      "Epoch [    2/   40] | d_loss: 1.0287 | g_loss: 0.8204\n",
      "Epoch [    2/   40] | d_loss: 1.0449 | g_loss: 2.4705\n",
      "Epoch [    2/   40] | d_loss: 0.8369 | g_loss: 1.8571\n",
      "Epoch [    3/   40] | d_loss: 0.9281 | g_loss: 1.1976\n",
      "Epoch [    3/   40] | d_loss: 0.9702 | g_loss: 1.2141\n",
      "Epoch [    3/   40] | d_loss: 1.0600 | g_loss: 0.9912\n",
      "Epoch [    3/   40] | d_loss: 1.1607 | g_loss: 1.2494\n",
      "Epoch [    3/   40] | d_loss: 0.9141 | g_loss: 1.9097\n",
      "Epoch [    3/   40] | d_loss: 0.9938 | g_loss: 2.1114\n",
      "Epoch [    3/   40] | d_loss: 0.9534 | g_loss: 1.3565\n",
      "Epoch [    3/   40] | d_loss: 1.1438 | g_loss: 0.9326\n",
      "Epoch [    4/   40] | d_loss: 0.9287 | g_loss: 1.6375\n",
      "Epoch [    4/   40] | d_loss: 0.8907 | g_loss: 1.3160\n",
      "Epoch [    4/   40] | d_loss: 0.8917 | g_loss: 1.5649\n",
      "Epoch [    4/   40] | d_loss: 0.9319 | g_loss: 1.4967\n",
      "Epoch [    4/   40] | d_loss: 1.2150 | g_loss: 2.1667\n",
      "Epoch [    4/   40] | d_loss: 1.1156 | g_loss: 1.7104\n",
      "Epoch [    4/   40] | d_loss: 0.9146 | g_loss: 1.7286\n",
      "Epoch [    4/   40] | d_loss: 0.9843 | g_loss: 2.0203\n",
      "Epoch [    5/   40] | d_loss: 1.0674 | g_loss: 1.4362\n",
      "Epoch [    5/   40] | d_loss: 1.0233 | g_loss: 1.1354\n",
      "Epoch [    5/   40] | d_loss: 0.9454 | g_loss: 1.3895\n",
      "Epoch [    5/   40] | d_loss: 0.9010 | g_loss: 1.8111\n",
      "Epoch [    5/   40] | d_loss: 1.0673 | g_loss: 2.2305\n",
      "Epoch [    5/   40] | d_loss: 0.9421 | g_loss: 1.0506\n",
      "Epoch [    5/   40] | d_loss: 1.1919 | g_loss: 1.8864\n",
      "Epoch [    5/   40] | d_loss: 0.8619 | g_loss: 1.5953\n",
      "Epoch [    6/   40] | d_loss: 1.0468 | g_loss: 2.0632\n",
      "Epoch [    6/   40] | d_loss: 0.9403 | g_loss: 1.0392\n",
      "Epoch [    6/   40] | d_loss: 0.9164 | g_loss: 1.2009\n",
      "Epoch [    6/   40] | d_loss: 1.4556 | g_loss: 2.8039\n",
      "Epoch [    6/   40] | d_loss: 0.8895 | g_loss: 1.8879\n",
      "Epoch [    6/   40] | d_loss: 0.8820 | g_loss: 1.4570\n",
      "Epoch [    6/   40] | d_loss: 0.8693 | g_loss: 1.5862\n",
      "Epoch [    6/   40] | d_loss: 0.9106 | g_loss: 1.0721\n",
      "Epoch [    7/   40] | d_loss: 1.0324 | g_loss: 0.9662\n",
      "Epoch [    7/   40] | d_loss: 0.8557 | g_loss: 1.7353\n",
      "Epoch [    7/   40] | d_loss: 0.8707 | g_loss: 1.7781\n",
      "Epoch [    7/   40] | d_loss: 0.8391 | g_loss: 1.8725\n",
      "Epoch [    7/   40] | d_loss: 0.8456 | g_loss: 1.5799\n",
      "Epoch [    7/   40] | d_loss: 0.8908 | g_loss: 1.4269\n",
      "Epoch [    7/   40] | d_loss: 1.0771 | g_loss: 2.2550\n",
      "Epoch [    7/   40] | d_loss: 0.8860 | g_loss: 1.5939\n",
      "Epoch [    8/   40] | d_loss: 0.9784 | g_loss: 1.2929\n",
      "Epoch [    8/   40] | d_loss: 0.8972 | g_loss: 1.2933\n",
      "Epoch [    8/   40] | d_loss: 0.9708 | g_loss: 0.9408\n",
      "Epoch [    8/   40] | d_loss: 0.8333 | g_loss: 1.8021\n",
      "Epoch [    8/   40] | d_loss: 1.1490 | g_loss: 2.0701\n",
      "Epoch [    8/   40] | d_loss: 1.0248 | g_loss: 0.7728\n",
      "Epoch [    8/   40] | d_loss: 1.0067 | g_loss: 1.0393\n",
      "Epoch [    8/   40] | d_loss: 0.9210 | g_loss: 1.2845\n",
      "Epoch [    9/   40] | d_loss: 0.9369 | g_loss: 1.8665\n",
      "Epoch [    9/   40] | d_loss: 1.0677 | g_loss: 1.6091\n",
      "Epoch [    9/   40] | d_loss: 1.0240 | g_loss: 1.0381\n",
      "Epoch [    9/   40] | d_loss: 1.0630 | g_loss: 1.8243\n",
      "Epoch [    9/   40] | d_loss: 1.0182 | g_loss: 1.0818\n",
      "Epoch [    9/   40] | d_loss: 0.9848 | g_loss: 1.2310\n",
      "Epoch [    9/   40] | d_loss: 0.9486 | g_loss: 1.3127\n",
      "Epoch [    9/   40] | d_loss: 0.9822 | g_loss: 1.4323\n",
      "Epoch [   10/   40] | d_loss: 1.1540 | g_loss: 0.9077\n",
      "Epoch [   10/   40] | d_loss: 0.9489 | g_loss: 1.5420\n",
      "Epoch [   10/   40] | d_loss: 1.0954 | g_loss: 1.9645\n",
      "Epoch [   10/   40] | d_loss: 0.8985 | g_loss: 1.1394\n",
      "Epoch [   10/   40] | d_loss: 1.0307 | g_loss: 1.5779\n",
      "Epoch [   10/   40] | d_loss: 0.9928 | g_loss: 1.3045\n",
      "Epoch [   10/   40] | d_loss: 1.0152 | g_loss: 1.3023\n",
      "Epoch [   10/   40] | d_loss: 1.0942 | g_loss: 1.5958\n",
      "Epoch [   11/   40] | d_loss: 1.0343 | g_loss: 1.3895\n",
      "Epoch [   11/   40] | d_loss: 1.0063 | g_loss: 1.1709\n",
      "Epoch [   11/   40] | d_loss: 1.0297 | g_loss: 1.1343\n",
      "Epoch [   11/   40] | d_loss: 0.9108 | g_loss: 0.9087\n",
      "Epoch [   11/   40] | d_loss: 0.8636 | g_loss: 1.5012\n",
      "Epoch [   11/   40] | d_loss: 0.8740 | g_loss: 1.5632\n",
      "Epoch [   11/   40] | d_loss: 1.0483 | g_loss: 1.1274\n",
      "Epoch [   11/   40] | d_loss: 1.0013 | g_loss: 1.4024\n",
      "Epoch [   12/   40] | d_loss: 1.0200 | g_loss: 1.7018\n",
      "Epoch [   12/   40] | d_loss: 1.0380 | g_loss: 0.9958\n",
      "Epoch [   12/   40] | d_loss: 0.9630 | g_loss: 1.1955\n",
      "Epoch [   12/   40] | d_loss: 1.0210 | g_loss: 1.3724\n",
      "Epoch [   12/   40] | d_loss: 0.9551 | g_loss: 1.8179\n",
      "Epoch [   12/   40] | d_loss: 1.0244 | g_loss: 1.1887\n",
      "Epoch [   12/   40] | d_loss: 0.8613 | g_loss: 1.4473\n",
      "Epoch [   12/   40] | d_loss: 0.8878 | g_loss: 1.4165\n",
      "Epoch [   13/   40] | d_loss: 0.8794 | g_loss: 1.6032\n",
      "Epoch [   13/   40] | d_loss: 1.0256 | g_loss: 1.8170\n",
      "Epoch [   13/   40] | d_loss: 0.9547 | g_loss: 1.4070\n",
      "Epoch [   13/   40] | d_loss: 0.9628 | g_loss: 1.3953\n",
      "Epoch [   13/   40] | d_loss: 1.0252 | g_loss: 1.1265\n",
      "Epoch [   13/   40] | d_loss: 1.1253 | g_loss: 1.6123\n",
      "Epoch [   13/   40] | d_loss: 0.9624 | g_loss: 2.1104\n",
      "Epoch [   13/   40] | d_loss: 0.9244 | g_loss: 1.6032\n",
      "Epoch [   14/   40] | d_loss: 0.8923 | g_loss: 1.9717\n",
      "Epoch [   14/   40] | d_loss: 0.9565 | g_loss: 0.8959\n",
      "Epoch [   14/   40] | d_loss: 0.9028 | g_loss: 1.4089\n",
      "Epoch [   14/   40] | d_loss: 0.9941 | g_loss: 0.9997\n",
      "Epoch [   14/   40] | d_loss: 0.8879 | g_loss: 1.3318\n",
      "Epoch [   14/   40] | d_loss: 0.8724 | g_loss: 1.0908\n",
      "Epoch [   14/   40] | d_loss: 0.8715 | g_loss: 1.4229\n",
      "Epoch [   14/   40] | d_loss: 1.0453 | g_loss: 1.5535\n",
      "Epoch [   15/   40] | d_loss: 0.8701 | g_loss: 1.3324\n",
      "Epoch [   15/   40] | d_loss: 0.9842 | g_loss: 1.0602\n",
      "Epoch [   15/   40] | d_loss: 1.1127 | g_loss: 0.8280\n",
      "Epoch [   15/   40] | d_loss: 0.9632 | g_loss: 1.2449\n",
      "Epoch [   15/   40] | d_loss: 1.0951 | g_loss: 1.8880\n",
      "Epoch [   15/   40] | d_loss: 0.9908 | g_loss: 2.2598\n",
      "Epoch [   15/   40] | d_loss: 1.1317 | g_loss: 1.6421\n",
      "Epoch [   15/   40] | d_loss: 1.0931 | g_loss: 2.0180\n",
      "Epoch [   16/   40] | d_loss: 1.0348 | g_loss: 1.5983\n",
      "Epoch [   16/   40] | d_loss: 1.2410 | g_loss: 0.5321\n",
      "Epoch [   16/   40] | d_loss: 0.9187 | g_loss: 1.1878\n",
      "Epoch [   16/   40] | d_loss: 0.8820 | g_loss: 1.1068\n",
      "Epoch [   16/   40] | d_loss: 1.0039 | g_loss: 1.6677\n",
      "Epoch [   16/   40] | d_loss: 0.9589 | g_loss: 1.9697\n",
      "Epoch [   16/   40] | d_loss: 1.0186 | g_loss: 1.7691\n",
      "Epoch [   16/   40] | d_loss: 0.9237 | g_loss: 1.3580\n",
      "Epoch [   17/   40] | d_loss: 0.9650 | g_loss: 1.8765\n",
      "Epoch [   17/   40] | d_loss: 0.9501 | g_loss: 1.5780\n",
      "Epoch [   17/   40] | d_loss: 0.9549 | g_loss: 1.1998\n",
      "Epoch [   17/   40] | d_loss: 0.9069 | g_loss: 1.1877\n",
      "Epoch [   17/   40] | d_loss: 1.1090 | g_loss: 2.0604\n",
      "Epoch [   17/   40] | d_loss: 1.0046 | g_loss: 1.3572\n",
      "Epoch [   17/   40] | d_loss: 0.9183 | g_loss: 1.2433\n",
      "Epoch [   17/   40] | d_loss: 0.9439 | g_loss: 1.5199\n",
      "Epoch [   18/   40] | d_loss: 0.9984 | g_loss: 1.2161\n",
      "Epoch [   18/   40] | d_loss: 0.9378 | g_loss: 1.4026\n",
      "Epoch [   18/   40] | d_loss: 0.8698 | g_loss: 1.2841\n",
      "Epoch [   18/   40] | d_loss: 1.0103 | g_loss: 0.9582\n",
      "Epoch [   18/   40] | d_loss: 0.9351 | g_loss: 1.6195\n",
      "Epoch [   18/   40] | d_loss: 0.9845 | g_loss: 1.2344\n",
      "Epoch [   18/   40] | d_loss: 0.9361 | g_loss: 1.8033\n",
      "Epoch [   18/   40] | d_loss: 0.8944 | g_loss: 1.7161\n",
      "Epoch [   19/   40] | d_loss: 0.8321 | g_loss: 1.5162\n",
      "Epoch [   19/   40] | d_loss: 0.8923 | g_loss: 1.7529\n",
      "Epoch [   19/   40] | d_loss: 0.8812 | g_loss: 1.6687\n",
      "Epoch [   19/   40] | d_loss: 0.8973 | g_loss: 1.3676\n",
      "Epoch [   19/   40] | d_loss: 0.8340 | g_loss: 1.6153\n",
      "Epoch [   19/   40] | d_loss: 0.8709 | g_loss: 1.3747\n",
      "Epoch [   19/   40] | d_loss: 1.0030 | g_loss: 1.1412\n",
      "Epoch [   19/   40] | d_loss: 0.8805 | g_loss: 1.9492\n"
     ]
    },
    {
     "name": "stdout",
     "output_type": "stream",
     "text": [
      "Epoch [   20/   40] | d_loss: 1.0749 | g_loss: 2.3512\n",
      "Epoch [   20/   40] | d_loss: 0.8863 | g_loss: 1.4268\n",
      "Epoch [   20/   40] | d_loss: 1.1232 | g_loss: 1.4513\n",
      "Epoch [   20/   40] | d_loss: 0.8839 | g_loss: 1.0162\n",
      "Epoch [   20/   40] | d_loss: 0.9192 | g_loss: 1.3488\n",
      "Epoch [   20/   40] | d_loss: 0.9389 | g_loss: 1.0419\n",
      "Epoch [   20/   40] | d_loss: 1.0275 | g_loss: 1.4247\n",
      "Epoch [   20/   40] | d_loss: 0.9455 | g_loss: 1.4882\n",
      "Epoch [   21/   40] | d_loss: 0.8744 | g_loss: 1.5377\n",
      "Epoch [   21/   40] | d_loss: 0.8211 | g_loss: 1.9964\n",
      "Epoch [   21/   40] | d_loss: 0.8644 | g_loss: 1.7101\n",
      "Epoch [   21/   40] | d_loss: 0.7912 | g_loss: 1.6262\n",
      "Epoch [   21/   40] | d_loss: 0.8257 | g_loss: 1.3794\n",
      "Epoch [   21/   40] | d_loss: 0.9326 | g_loss: 1.5701\n",
      "Epoch [   21/   40] | d_loss: 0.9962 | g_loss: 2.2660\n",
      "Epoch [   21/   40] | d_loss: 0.8757 | g_loss: 1.5005\n",
      "Epoch [   22/   40] | d_loss: 0.9387 | g_loss: 1.9633\n",
      "Epoch [   22/   40] | d_loss: 1.0522 | g_loss: 2.0245\n",
      "Epoch [   22/   40] | d_loss: 0.9281 | g_loss: 1.4214\n",
      "Epoch [   22/   40] | d_loss: 1.0736 | g_loss: 1.0096\n",
      "Epoch [   22/   40] | d_loss: 0.9519 | g_loss: 1.0038\n",
      "Epoch [   22/   40] | d_loss: 0.8529 | g_loss: 1.5621\n",
      "Epoch [   22/   40] | d_loss: 0.7930 | g_loss: 1.6665\n",
      "Epoch [   22/   40] | d_loss: 0.9450 | g_loss: 1.0947\n",
      "Epoch [   23/   40] | d_loss: 1.2189 | g_loss: 2.1860\n",
      "Epoch [   23/   40] | d_loss: 0.9291 | g_loss: 1.3765\n",
      "Epoch [   23/   40] | d_loss: 0.8721 | g_loss: 1.4982\n",
      "Epoch [   23/   40] | d_loss: 0.7837 | g_loss: 1.5304\n",
      "Epoch [   23/   40] | d_loss: 0.9543 | g_loss: 0.9806\n",
      "Epoch [   23/   40] | d_loss: 0.7761 | g_loss: 2.1046\n",
      "Epoch [   23/   40] | d_loss: 0.8955 | g_loss: 0.8195\n",
      "Epoch [   23/   40] | d_loss: 0.9809 | g_loss: 1.0654\n",
      "Epoch [   24/   40] | d_loss: 0.8295 | g_loss: 2.3641\n",
      "Epoch [   24/   40] | d_loss: 0.7897 | g_loss: 1.0920\n",
      "Epoch [   24/   40] | d_loss: 0.8505 | g_loss: 1.7090\n",
      "Epoch [   24/   40] | d_loss: 0.9321 | g_loss: 1.2045\n",
      "Epoch [   24/   40] | d_loss: 0.9830 | g_loss: 1.6422\n",
      "Epoch [   24/   40] | d_loss: 0.8201 | g_loss: 2.0990\n",
      "Epoch [   24/   40] | d_loss: 0.9447 | g_loss: 1.1453\n",
      "Epoch [   24/   40] | d_loss: 0.9049 | g_loss: 1.6795\n",
      "Epoch [   25/   40] | d_loss: 0.7846 | g_loss: 1.3561\n",
      "Epoch [   25/   40] | d_loss: 1.1470 | g_loss: 0.6791\n",
      "Epoch [   25/   40] | d_loss: 0.8266 | g_loss: 1.2694\n",
      "Epoch [   25/   40] | d_loss: 1.2811 | g_loss: 0.8469\n",
      "Epoch [   25/   40] | d_loss: 0.8672 | g_loss: 1.1309\n",
      "Epoch [   25/   40] | d_loss: 0.8277 | g_loss: 2.2309\n",
      "Epoch [   25/   40] | d_loss: 0.8971 | g_loss: 1.6481\n",
      "Epoch [   25/   40] | d_loss: 0.8756 | g_loss: 1.8926\n",
      "Epoch [   26/   40] | d_loss: 0.9773 | g_loss: 2.3848\n",
      "Epoch [   26/   40] | d_loss: 0.9730 | g_loss: 1.9759\n",
      "Epoch [   26/   40] | d_loss: 0.9339 | g_loss: 2.0129\n",
      "Epoch [   26/   40] | d_loss: 0.8507 | g_loss: 2.0143\n",
      "Epoch [   26/   40] | d_loss: 0.8678 | g_loss: 1.4856\n",
      "Epoch [   26/   40] | d_loss: 0.8121 | g_loss: 1.5204\n",
      "Epoch [   26/   40] | d_loss: 1.0861 | g_loss: 0.7769\n",
      "Epoch [   26/   40] | d_loss: 0.8323 | g_loss: 1.6814\n",
      "Epoch [   27/   40] | d_loss: 0.9209 | g_loss: 1.2306\n",
      "Epoch [   27/   40] | d_loss: 0.8731 | g_loss: 0.9942\n",
      "Epoch [   27/   40] | d_loss: 0.8429 | g_loss: 1.7023\n",
      "Epoch [   27/   40] | d_loss: 0.9682 | g_loss: 2.1436\n",
      "Epoch [   27/   40] | d_loss: 0.8110 | g_loss: 1.3771\n",
      "Epoch [   27/   40] | d_loss: 0.8580 | g_loss: 1.4159\n",
      "Epoch [   27/   40] | d_loss: 1.0715 | g_loss: 2.4107\n",
      "Epoch [   27/   40] | d_loss: 0.8504 | g_loss: 1.0331\n",
      "Epoch [   28/   40] | d_loss: 1.1598 | g_loss: 0.9343\n",
      "Epoch [   28/   40] | d_loss: 0.7906 | g_loss: 1.4084\n",
      "Epoch [   28/   40] | d_loss: 0.7114 | g_loss: 1.5777\n",
      "Epoch [   28/   40] | d_loss: 0.7990 | g_loss: 1.3157\n",
      "Epoch [   28/   40] | d_loss: 0.7040 | g_loss: 1.5600\n",
      "Epoch [   28/   40] | d_loss: 0.7636 | g_loss: 2.0973\n",
      "Epoch [   28/   40] | d_loss: 0.7977 | g_loss: 1.2135\n",
      "Epoch [   28/   40] | d_loss: 0.7576 | g_loss: 1.2035\n",
      "Epoch [   29/   40] | d_loss: 0.8024 | g_loss: 2.1092\n",
      "Epoch [   29/   40] | d_loss: 0.7388 | g_loss: 2.2785\n",
      "Epoch [   29/   40] | d_loss: 0.8170 | g_loss: 1.8746\n",
      "Epoch [   29/   40] | d_loss: 0.7844 | g_loss: 1.8041\n",
      "Epoch [   29/   40] | d_loss: 0.7860 | g_loss: 1.6524\n",
      "Epoch [   29/   40] | d_loss: 0.8343 | g_loss: 2.0403\n",
      "Epoch [   29/   40] | d_loss: 0.8303 | g_loss: 2.0485\n",
      "Epoch [   29/   40] | d_loss: 0.7272 | g_loss: 1.7571\n",
      "Epoch [   30/   40] | d_loss: 0.8030 | g_loss: 1.4703\n",
      "Epoch [   30/   40] | d_loss: 1.0158 | g_loss: 2.2802\n",
      "Epoch [   30/   40] | d_loss: 0.7587 | g_loss: 1.7876\n",
      "Epoch [   30/   40] | d_loss: 0.8138 | g_loss: 2.2686\n",
      "Epoch [   30/   40] | d_loss: 0.7061 | g_loss: 1.1246\n",
      "Epoch [   30/   40] | d_loss: 0.9884 | g_loss: 2.0894\n",
      "Epoch [   30/   40] | d_loss: 0.6792 | g_loss: 1.7097\n",
      "Epoch [   30/   40] | d_loss: 1.0067 | g_loss: 1.6416\n",
      "Epoch [   31/   40] | d_loss: 0.9034 | g_loss: 1.9869\n",
      "Epoch [   31/   40] | d_loss: 0.8909 | g_loss: 1.2611\n",
      "Epoch [   31/   40] | d_loss: 0.7747 | g_loss: 2.8043\n",
      "Epoch [   31/   40] | d_loss: 0.7255 | g_loss: 1.7235\n",
      "Epoch [   31/   40] | d_loss: 0.8299 | g_loss: 1.1753\n",
      "Epoch [   31/   40] | d_loss: 0.7637 | g_loss: 1.7756\n",
      "Epoch [   31/   40] | d_loss: 0.6445 | g_loss: 1.7119\n",
      "Epoch [   31/   40] | d_loss: 0.8075 | g_loss: 1.5862\n",
      "Epoch [   32/   40] | d_loss: 0.6959 | g_loss: 1.4069\n",
      "Epoch [   32/   40] | d_loss: 0.6230 | g_loss: 2.2732\n",
      "Epoch [   32/   40] | d_loss: 0.7783 | g_loss: 1.3431\n",
      "Epoch [   32/   40] | d_loss: 0.6559 | g_loss: 1.5681\n",
      "Epoch [   32/   40] | d_loss: 0.7786 | g_loss: 1.9007\n",
      "Epoch [   32/   40] | d_loss: 0.8643 | g_loss: 1.9937\n",
      "Epoch [   32/   40] | d_loss: 0.8783 | g_loss: 1.8966\n",
      "Epoch [   32/   40] | d_loss: 0.9100 | g_loss: 1.3190\n",
      "Epoch [   33/   40] | d_loss: 0.5796 | g_loss: 1.9528\n",
      "Epoch [   33/   40] | d_loss: 0.8064 | g_loss: 1.2186\n",
      "Epoch [   33/   40] | d_loss: 0.7641 | g_loss: 1.3418\n",
      "Epoch [   33/   40] | d_loss: 0.6949 | g_loss: 1.8195\n",
      "Epoch [   33/   40] | d_loss: 0.8810 | g_loss: 1.9082\n",
      "Epoch [   33/   40] | d_loss: 0.7254 | g_loss: 1.9022\n",
      "Epoch [   33/   40] | d_loss: 0.5866 | g_loss: 1.6082\n",
      "Epoch [   33/   40] | d_loss: 0.7391 | g_loss: 1.1421\n",
      "Epoch [   34/   40] | d_loss: 0.8486 | g_loss: 1.3433\n",
      "Epoch [   34/   40] | d_loss: 0.6875 | g_loss: 1.9164\n",
      "Epoch [   34/   40] | d_loss: 0.6454 | g_loss: 2.8215\n",
      "Epoch [   34/   40] | d_loss: 0.7580 | g_loss: 1.3818\n",
      "Epoch [   34/   40] | d_loss: 0.9192 | g_loss: 0.8423\n",
      "Epoch [   34/   40] | d_loss: 0.6285 | g_loss: 1.9036\n",
      "Epoch [   34/   40] | d_loss: 0.7378 | g_loss: 2.1462\n",
      "Epoch [   34/   40] | d_loss: 0.7522 | g_loss: 1.3780\n",
      "Epoch [   35/   40] | d_loss: 0.6268 | g_loss: 1.9597\n",
      "Epoch [   35/   40] | d_loss: 0.7560 | g_loss: 1.1056\n",
      "Epoch [   35/   40] | d_loss: 1.3942 | g_loss: 3.6355\n",
      "Epoch [   35/   40] | d_loss: 0.6241 | g_loss: 1.6130\n",
      "Epoch [   35/   40] | d_loss: 0.6751 | g_loss: 1.8889\n",
      "Epoch [   35/   40] | d_loss: 0.8049 | g_loss: 1.4900\n",
      "Epoch [   35/   40] | d_loss: 0.6177 | g_loss: 1.6404\n",
      "Epoch [   35/   40] | d_loss: 0.9070 | g_loss: 2.7353\n",
      "Epoch [   36/   40] | d_loss: 0.7242 | g_loss: 1.7467\n",
      "Epoch [   36/   40] | d_loss: 1.1362 | g_loss: 0.6907\n",
      "Epoch [   36/   40] | d_loss: 0.5278 | g_loss: 2.2520\n",
      "Epoch [   36/   40] | d_loss: 0.9069 | g_loss: 1.1573\n",
      "Epoch [   36/   40] | d_loss: 0.6926 | g_loss: 1.5135\n",
      "Epoch [   36/   40] | d_loss: 0.7958 | g_loss: 1.1521\n",
      "Epoch [   36/   40] | d_loss: 0.6033 | g_loss: 1.6274\n",
      "Epoch [   36/   40] | d_loss: 0.8431 | g_loss: 1.1377\n",
      "Epoch [   37/   40] | d_loss: 0.7303 | g_loss: 1.3525\n",
      "Epoch [   37/   40] | d_loss: 0.5148 | g_loss: 1.7598\n",
      "Epoch [   37/   40] | d_loss: 0.7792 | g_loss: 1.4418\n",
      "Epoch [   37/   40] | d_loss: 0.8265 | g_loss: 0.7179\n",
      "Epoch [   37/   40] | d_loss: 0.9374 | g_loss: 0.8223\n",
      "Epoch [   37/   40] | d_loss: 0.5919 | g_loss: 1.7302\n",
      "Epoch [   37/   40] | d_loss: 0.8459 | g_loss: 1.7852\n",
      "Epoch [   37/   40] | d_loss: 0.6101 | g_loss: 2.4797\n",
      "Epoch [   38/   40] | d_loss: 0.7209 | g_loss: 2.1237\n",
      "Epoch [   38/   40] | d_loss: 0.5834 | g_loss: 1.7144\n",
      "Epoch [   38/   40] | d_loss: 1.0239 | g_loss: 0.7628\n",
      "Epoch [   38/   40] | d_loss: 0.6106 | g_loss: 1.8517\n",
      "Epoch [   38/   40] | d_loss: 0.6746 | g_loss: 1.4227\n",
      "Epoch [   38/   40] | d_loss: 1.5432 | g_loss: 0.8443\n",
      "Epoch [   38/   40] | d_loss: 0.6576 | g_loss: 1.7832\n",
      "Epoch [   38/   40] | d_loss: 0.7489 | g_loss: 2.4618\n"
     ]
    },
    {
     "name": "stdout",
     "output_type": "stream",
     "text": [
      "Epoch [   39/   40] | d_loss: 0.6363 | g_loss: 1.2980\n",
      "Epoch [   39/   40] | d_loss: 0.6873 | g_loss: 1.2218\n",
      "Epoch [   39/   40] | d_loss: 0.6770 | g_loss: 1.7144\n",
      "Epoch [   39/   40] | d_loss: 0.5949 | g_loss: 2.6781\n",
      "Epoch [   39/   40] | d_loss: 0.7404 | g_loss: 1.2670\n",
      "Epoch [   39/   40] | d_loss: 0.5920 | g_loss: 2.0281\n",
      "Epoch [   39/   40] | d_loss: 0.6234 | g_loss: 1.4007\n",
      "Epoch [   39/   40] | d_loss: 0.6147 | g_loss: 2.1293\n",
      "Epoch [   40/   40] | d_loss: 0.8086 | g_loss: 2.7907\n",
      "Epoch [   40/   40] | d_loss: 0.6196 | g_loss: 2.6269\n",
      "Epoch [   40/   40] | d_loss: 0.5235 | g_loss: 2.4547\n",
      "Epoch [   40/   40] | d_loss: 0.5084 | g_loss: 1.8965\n",
      "Epoch [   40/   40] | d_loss: 0.8208 | g_loss: 3.4595\n",
      "Epoch [   40/   40] | d_loss: 0.5238 | g_loss: 2.1316\n",
      "Epoch [   40/   40] | d_loss: 0.5647 | g_loss: 1.6800\n",
      "Epoch [   40/   40] | d_loss: 0.6000 | g_loss: 1.8938\n"
     ]
    }
   ],
   "source": [
    "# set number of epochs \n",
    "n_epochs = 40\n",
    "\n",
    "\n",
    "\"\"\"\n",
    "DON'T MODIFY ANYTHING IN THIS CELL\n",
    "\"\"\"\n",
    "# call training function\n",
    "losses = train(D, G, n_epochs=n_epochs)"
   ]
  },
  {
   "cell_type": "markdown",
   "metadata": {
    "collapsed": true
   },
   "source": [
    "## Training loss\n",
    "\n",
    "Plot the training losses for the generator and discriminator, recorded after each epoch."
   ]
  },
  {
   "cell_type": "code",
   "execution_count": 61,
   "metadata": {},
   "outputs": [
    {
     "data": {
      "text/plain": [
       "<matplotlib.legend.Legend at 0x7fb334088a58>"
      ]
     },
     "execution_count": 61,
     "metadata": {},
     "output_type": "execute_result"
    },
    {
     "data": {
      "image/png": "[encoded data removed]",
      "text/plain": [
       "<Figure size 432x288 with 1 Axes>"
      ]
     },
     "metadata": {
      "needs_background": "light"
     },
     "output_type": "display_data"
    }
   ],
   "source": [
    "fig, ax = plt.subplots()\n",
    "losses = np.array(losses)\n",
    "plt.plot(losses.T[0], label='Discriminator', alpha=0.5)\n",
    "plt.plot(losses.T[1], label='Generator', alpha=0.5)\n",
    "plt.title(\"Training Losses\")\n",
    "plt.legend()"
   ]
  },
  {
   "cell_type": "markdown",
   "metadata": {
    "collapsed": true
   },
   "source": [
    "## Generator samples from training\n",
    "\n",
    "View samples of images from the generator, and answer a question about the strengths and weaknesses of your trained models."
   ]
  },
  {
   "cell_type": "code",
   "execution_count": 64,
   "metadata": {},
   "outputs": [],
   "source": [
    "# helper function for viewing a list of passed in sample images\n",
    "def view_samples(epoch, samples):\n",
    "    fig, axes = plt.subplots(figsize=(16,4), nrows=2, ncols=8, sharey=True, sharex=True)\n",
    "    for ax, img in zip(axes.flatten(), samples[epoch]):\n",
    "        img = img.detach().cpu().numpy()\n",
    "        img = np.transpose(img, (1, 2, 0))\n",
    "        img = ((img + 1)*255/2).astype(np.uint8)\n",
    "        ax.xaxis.set_visible(False)\n",
    "        ax.yaxis.set_visible(False)\n",
    "        im = ax.imshow(img.reshape((32,32,3)))"
   ]
  },
  {
   "cell_type": "code",
   "execution_count": 58,
   "metadata": {},
   "outputs": [],
   "source": [
    "# Load samples from generator, taken while training\n",
    "with open('train_samples.pkl', 'rb') as f:\n",
    "    samples = pkl.load(f)"
   ]
  },
  {
   "cell_type": "code",
   "execution_count": 65,
   "metadata": {},
   "outputs": [
    {
     "data": {
      "image/png": "[encoded data removed]",
      "text/plain": [
       "<Figure size 1152x288 with 16 Axes>"
      ]
     },
     "metadata": {
      "needs_background": "light"
     },
     "output_type": "display_data"
    }
   ],
   "source": [
    "_ = view_samples(-1, samples)"
   ]
  },
  {
   "cell_type": "markdown",
   "metadata": {},
   "source": [
    "### Question: What do you notice about your generated samples and how might you improve this model?\n",
    "When you answer this question, consider the following factors:\n",
    "* The dataset is biased; it is made of \"celebrity\" faces that are mostly white\n",
    "* Model size; larger models have the opportunity to learn more features in a data feature space\n",
    "* Optimization strategy; optimizers and number of epochs affect your final result\n"
   ]
  },
  {
   "cell_type": "markdown",
   "metadata": {},
   "source": [
    "**Answer:** (Write your answer in this cell)\n",
    "The dataset of human faces(celebA) is a complex data set as compared to MNIST or SVHN. As the dataset is biased towards celebrity faces that are mostly white, we can observe that all the images are lighter in shade even brown faces are bit lighter.\n",
    "We can observe better results if model have more layers, right now my discriminator has 3 layers and generator has 4 layers with conv_dim = 64. If we increase conv_dim the model will be able to understand more complex relations.\n",
    "\n",
    "Trying out differet optimizers and increasing the number of epochs can also help to get better results. But based on DCGAN paper Adam was the best optimizer. Increasing epochs will help generator to improve the generated image."
   ]
  },
  {
   "cell_type": "markdown",
   "metadata": {},
   "source": [
    "### Submitting This Project\n",
    "When submitting this project, make sure to run all the cells before saving the notebook. Save the notebook file as \"dlnd_face_generation.ipynb\" and save it as a HTML file under \"File\" -> \"Download as\". Include the \"problem_unittests.py\" files in your submission."
   ]
  }
 ],
 "metadata": {
  "kernelspec": {
   "display_name": "Python 3",
   "language": "python",
   "name": "python3"
  },
  "language_info": {
   "codemirror_mode": {
    "name": "ipython",
    "version": 3
   },
   "file_extension": ".py",
   "mimetype": "text/x-python",
   "name": "python",
   "nbconvert_exporter": "python",
   "pygments_lexer": "ipython3",
   "version": "3.7.3"
  }
 },
 "nbformat": 4,
 "nbformat_minor": 1
}
